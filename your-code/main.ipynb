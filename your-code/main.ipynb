{
 "cells": [
  {
   "cell_type": "code",
   "execution_count": 8,
   "metadata": {},
   "outputs": [
    {
     "name": "stderr",
     "output_type": "stream",
     "text": [
      "/var/folders/zf/26z9dj9s4rgb9txx_1j9fkv80000gn/T/ipykernel_19255/3777615979.py:1: DeprecationWarning: Importing display from IPython.core.display is deprecated since IPython 7.14, please import from IPython.display\n",
      "  from IPython.core.display import display, HTML\n"
     ]
    },
    {
     "data": {
      "text/html": [
       "<style>.container { width:100% !important; }</style>"
      ],
      "text/plain": [
       "<IPython.core.display.HTML object>"
      ]
     },
     "metadata": {},
     "output_type": "display_data"
    }
   ],
   "source": [
    "from IPython.core.display import display, HTML\n",
    "display(HTML(\"<style>.container { width:100% !important; }</style>\"))"
   ]
  },
  {
   "cell_type": "markdown",
   "metadata": {},
   "source": [
    "# Lab | Natural Language Processing\n",
    "### SMS: SPAM or HAM"
   ]
  },
  {
   "cell_type": "markdown",
   "metadata": {},
   "source": [
    "### Let's prepare the environment"
   ]
  },
  {
   "cell_type": "code",
   "execution_count": 9,
   "metadata": {},
   "outputs": [],
   "source": [
    "import pandas as pd\n",
    "import matplotlib.pyplot as plt\n",
    "from sklearn.feature_extraction.text import TfidfVectorizer"
   ]
  },
  {
   "cell_type": "markdown",
   "metadata": {},
   "source": [
    "- Read Data for the Fraudulent Email Kaggle Challenge\n",
    "- Reduce the training set to speead up development. "
   ]
  },
  {
   "cell_type": "code",
   "execution_count": 10,
   "metadata": {},
   "outputs": [
    {
     "name": "stdout",
     "output_type": "stream",
     "text": [
      "(1000, 2)\n"
     ]
    }
   ],
   "source": [
    "## Read Data for the Fraudulent Email Kaggle Challenge\n",
    "data = pd.read_csv(\"../data/kg_train.csv\",encoding='latin-1')\n",
    "\n",
    "# Reduce the training set to speed up development. \n",
    "# Modify for final system\n",
    "data = data.head(1000)\n",
    "print(data.shape)\n",
    "data.fillna(\"\",inplace=True)"
   ]
  },
  {
   "cell_type": "markdown",
   "metadata": {},
   "source": [
    "### Let's divide the training and test set into two partitions"
   ]
  },
  {
   "cell_type": "code",
   "execution_count": 11,
   "metadata": {},
   "outputs": [
    {
     "name": "stdout",
     "output_type": "stream",
     "text": [
      "Tamaño del conjunto de entrenamiento: (800, 2)\n",
      "Tamaño del conjunto de validación: (200, 2)\n"
     ]
    }
   ],
   "source": [
    "from sklearn.model_selection import train_test_split\n",
    "\n",
    "# Dividir los datos en train y validación (80-20)\n",
    "data_train, data_val = train_test_split(data, test_size=0.2, random_state=42)\n",
    "\n",
    "print(\"Tamaño del conjunto de entrenamiento:\", data_train.shape)\n",
    "print(\"Tamaño del conjunto de validación:\", data_val.shape)"
   ]
  },
  {
   "cell_type": "code",
   "execution_count": 12,
   "metadata": {},
   "outputs": [
    {
     "data": {
      "image/png": "[encoded data removed]",
      "text/plain": [
       "<Figure size 800x600 with 1 Axes>"
      ]
     },
     "metadata": {},
     "output_type": "display_data"
    }
   ],
   "source": [
    "# Visualización de la distribución de clases\n",
    "plt.figure(figsize=(8, 6))\n",
    "data_train['label'].value_counts().plot(kind='bar')\n",
    "plt.title('Distribución de clases (HAM vs SPAM)')\n",
    "plt.xlabel('Clase')\n",
    "plt.ylabel('Cantidad')\n",
    "plt.show()"
   ]
  },
  {
   "cell_type": "markdown",
   "metadata": {},
   "source": [
    "## Data Preprocessing"
   ]
  },
  {
   "cell_type": "code",
   "execution_count": 13,
   "metadata": {},
   "outputs": [
    {
     "name": "stdout",
     "output_type": "stream",
     "text": [
      "!\"#$%&'()*+,-./:;<=>?@[\\]^_`{|}~\n",
      "['here', 'there', 'when', 'where', 'why', 'how', 'all', 'any', 'both', 'each']\n"
     ]
    }
   ],
   "source": [
    "import string\n",
    "from nltk.corpus import stopwords\n",
    "print(string.punctuation)\n",
    "print(stopwords.words(\"english\")[100:110])\n",
    "from nltk.stem.snowball import SnowballStemmer\n",
    "snowball = SnowballStemmer('english')"
   ]
  },
  {
   "cell_type": "markdown",
   "metadata": {},
   "source": [
    "## Now, we have to clean the html code removing words\n",
    "\n",
    "- First we remove inline JavaScript/CSS\n",
    "- Then we remove html comments. This has to be done before removing regular tags since comments can contain '>' characters\n",
    "- Next we can remove the remaining tags"
   ]
  },
  {
   "cell_type": "code",
   "execution_count": 14,
   "metadata": {},
   "outputs": [],
   "source": [
    "import re\n",
    "from bs4 import BeautifulSoup"
   ]
  },
  {
   "cell_type": "markdown",
   "metadata": {},
   "source": [
    "- Remove all the special characters\n",
    "    \n",
    "- Remove numbers\n",
    "    \n",
    "- Remove all single characters\n",
    " \n",
    "- Remove single characters from the start\n",
    "\n",
    "- Substitute multiple spaces with single space\n",
    "\n",
    "- Remove prefixed 'b'\n",
    "\n",
    "- Convert to Lowercase"
   ]
  },
  {
   "cell_type": "code",
   "execution_count": 15,
   "metadata": {},
   "outputs": [
    {
     "name": "stdout",
     "output_type": "stream",
     "text": [
      "Ejemplo de texto original:\n",
      "----------- REGARDS, MR NELSON SMITH.KINDLY REPLY ME ON MY PRIVATE EMAIL ADDRESS;nelsonsmith2000@yahoo.com\n",
      "\n",
      "Ejemplo de texto limpio:\n",
      "regards mr nelson smith kindly reply me on my private email address nelsonsmith yahoo com\n"
     ]
    }
   ],
   "source": [
    "def clean_text(text):\n",
    "    try:\n",
    "        # Primero verificamos si el texto está vacío o es None\n",
    "        if not text or pd.isna(text):\n",
    "            return \"\"\n",
    "            \n",
    "        # Convertimos a string en caso de que no lo sea\n",
    "        text = str(text)\n",
    "        \n",
    "        # Remover HTML (ignorando warnings)\n",
    "        import warnings\n",
    "        with warnings.catch_warnings():\n",
    "            warnings.filterwarnings(\"ignore\", category=UserWarning)\n",
    "            soup = BeautifulSoup(text, 'html.parser', from_encoding='utf-8')\n",
    "            text = soup.get_text()\n",
    "        \n",
    "        # Remover caracteres especiales y números\n",
    "        text = re.sub('[^a-zA-Z]', ' ', text)\n",
    "        \n",
    "        # Convertir a minúsculas\n",
    "        text = text.lower()\n",
    "        \n",
    "        # Remover espacios múltiples\n",
    "        text = re.sub('\\s+', ' ', text).strip()\n",
    "        \n",
    "        return text\n",
    "    except Exception as e:\n",
    "        print(f\"Error procesando texto: {e}\")\n",
    "        return \"\"\n",
    "\n",
    "# Aplicar limpieza a los datos\n",
    "data_train['cleaned_text'] = data_train['text'].apply(clean_text)\n",
    "data_val['cleaned_text'] = data_val['text'].apply(clean_text)\n",
    "\n",
    "# Mostrar ejemplo de la limpieza\n",
    "print(\"Ejemplo de texto original:\")\n",
    "print(data_train['text'].iloc[0])\n",
    "print(\"\\nEjemplo de texto limpio:\")\n",
    "print(data_train['cleaned_text'].iloc[0])"
   ]
  },
  {
   "cell_type": "code",
   "execution_count": 16,
   "metadata": {},
   "outputs": [],
   "source": [
    "# Características adicionales\n",
    "def extract_more_features(df):\n",
    "    # URLs\n",
    "    df['url_count'] = df['text'].str.count(r'http[s]?://(?:[a-zA-Z]|[0-9]|[$-_@.&+]|[!*\\(\\),]|(?:%[0-9a-fA-F][0-9a-fA-F]))+')\n",
    "    \n",
    "    # Números\n",
    "    df['number_count'] = df['text'].str.count(r'\\d+')\n",
    "    \n",
    "    # Ratio de mayúsculas\n",
    "    df['uppercase_ratio'] = df['text'].apply(lambda x: sum(1 for c in x if c.isupper()) / len(x) if len(x) > 0 else 0)\n",
    "    \n",
    "    return df\n",
    "\n",
    "data_train = extract_more_features(data_train)\n",
    "data_val = extract_more_features(data_val)"
   ]
  },
  {
   "cell_type": "code",
   "execution_count": 17,
   "metadata": {},
   "outputs": [
    {
     "data": {
      "image/png": "[encoded data removed]",
      "text/plain": [
       "<Figure size 1200x500 with 2 Axes>"
      ]
     },
     "metadata": {},
     "output_type": "display_data"
    }
   ],
   "source": [
    "# Análisis de longitud de mensajes\n",
    "data_train['original_length'] = data_train['text'].str.len()\n",
    "data_train['cleaned_length'] = data_train['cleaned_text'].str.len()\n",
    "\n",
    "plt.figure(figsize=(12, 5))\n",
    "plt.subplot(1, 2, 1)\n",
    "plt.hist(data_train['original_length'], bins=50)\n",
    "plt.title('Distribución de longitud original')\n",
    "plt.subplot(1, 2, 2)\n",
    "plt.hist(data_train['cleaned_length'], bins=50)\n",
    "plt.title('Distribución de longitud después de limpieza')\n",
    "plt.tight_layout()\n",
    "plt.show()"
   ]
  },
  {
   "cell_type": "markdown",
   "metadata": {
    "slideshow": {
     "slide_type": "-"
    }
   },
   "source": [
    "## Now let's work on removing stopwords\n",
    "Remove the stopwords."
   ]
  },
  {
   "cell_type": "code",
   "execution_count": 18,
   "metadata": {},
   "outputs": [
    {
     "name": "stdout",
     "output_type": "stream",
     "text": [
      "Texto sin stopwords:\n",
      "regards mr nelson smith kindly reply private email address nelsonsmith yahoo com\n"
     ]
    }
   ],
   "source": [
    "stop_words = set(stopwords.words('english'))\n",
    "\n",
    "def remove_stopwords(text):\n",
    "    words = text.split()\n",
    "    words = [w for w in words if w not in stop_words]\n",
    "    return ' '.join(words)\n",
    "\n",
    "data_train['preprocessed_text'] = data_train['cleaned_text'].apply(remove_stopwords)\n",
    "data_val['preprocessed_text'] = data_val['cleaned_text'].apply(remove_stopwords)\n",
    "\n",
    "print(\"Texto sin stopwords:\")\n",
    "print(data_train['preprocessed_text'].iloc[0])"
   ]
  },
  {
   "cell_type": "markdown",
   "metadata": {},
   "source": [
    "## Tame Your Text with Lemmatization\n",
    "Break sentences into words, then use lemmatization to reduce them to their base form (e.g., \"running\" becomes \"run\"). See how this creates cleaner data for analysis!"
   ]
  },
  {
   "cell_type": "code",
   "execution_count": 19,
   "metadata": {},
   "outputs": [
    {
     "name": "stdout",
     "output_type": "stream",
     "text": [
      "Texto lematizado:\n",
      "regard mr nelson smith kindly reply private email address nelsonsmith yahoo com\n"
     ]
    }
   ],
   "source": [
    "import nltk\n",
    "from nltk.stem import WordNetLemmatizer\n",
    "\n",
    "lemmatizer = WordNetLemmatizer()\n",
    "\n",
    "def lemmatize_text(text):\n",
    "    words = text.split()\n",
    "    words = [lemmatizer.lemmatize(word) for word in words]\n",
    "    return ' '.join(words)\n",
    "\n",
    "data_train['preprocessed_text'] = data_train['preprocessed_text'].apply(lemmatize_text)\n",
    "data_val['preprocessed_text'] = data_val['preprocessed_text'].apply(lemmatize_text)\n",
    "\n",
    "print(\"Texto lematizado:\")\n",
    "print(data_train['preprocessed_text'].iloc[0])"
   ]
  },
  {
   "cell_type": "markdown",
   "metadata": {},
   "source": [
    "## Bag Of Words\n",
    "Let's get the 10 top words in ham and spam messages (**EXPLORATORY DATA ANALYSIS**)"
   ]
  },
  {
   "cell_type": "code",
   "execution_count": 20,
   "metadata": {},
   "outputs": [
    {
     "name": "stdout",
     "output_type": "stream",
     "text": [
      "Valores únicos en label:\n",
      "[1 0]\n",
      "\n",
      "Conteo de labels:\n",
      "label\n",
      "0    433\n",
      "1    367\n",
      "Name: count, dtype: int64\n",
      "\n",
      "Ejemplo de texto HAM:\n",
      "able reach oscar supposed send pdb u receive\n",
      "\n",
      "Ejemplo de texto SPAM:\n",
      "regard mr nelson smith kindly reply private email address nelsonsmith yahoo com\n",
      "Número de textos recibidos: 433\n",
      "Ejemplo de texto: ['able reach oscar supposed send pdb u receive']\n",
      "Número total de palabras: 18195\n",
      "\n",
      "Top 10 palabras en mensajes HAM:\n",
      "[('u', 123), ('state', 117), ('pm', 97), ('would', 94), ('president', 89), ('mr', 89), ('time', 81), ('percent', 80), ('obama', 77), ('call', 74)]\n",
      "Número de textos recibidos: 367\n",
      "Ejemplo de texto: ['regard mr nelson smith kindly reply private email address nelsonsmith yahoo com']\n",
      "Número total de palabras: 96432\n",
      "\n",
      "Top 10 palabras en mensajes SPAM:\n",
      "[('e', 2236), ('c', 1188), ('money', 842), ('u', 836), ('account', 740), ('bank', 645), ('fund', 625), ('f', 559), ('transaction', 468), ('p', 458)]\n"
     ]
    }
   ],
   "source": [
    "from collections import Counter\n",
    "\n",
    "# Primero, veamos cómo están los labels\n",
    "print(\"Valores únicos en label:\")\n",
    "print(data_train['label'].unique())\n",
    "print(\"\\nConteo de labels:\")\n",
    "print(data_train['label'].value_counts())\n",
    "\n",
    "def get_top_words(texts, n=10):\n",
    "    # Añadimos prints para debug\n",
    "    print(f\"Número de textos recibidos: {len(texts)}\")\n",
    "    print(f\"Ejemplo de texto: {list(texts)[:1]}\")\n",
    "    \n",
    "    words = ' '.join(texts).split()\n",
    "    print(f\"Número total de palabras: {len(words)}\")\n",
    "    return Counter(words).most_common(n)\n",
    "\n",
    "# Verificamos los textos para cada clase\n",
    "print(\"\\nEjemplo de texto HAM:\")\n",
    "print(data_train[data_train['label'] == 0]['preprocessed_text'].iloc[0])\n",
    "print(\"\\nEjemplo de texto SPAM:\")\n",
    "print(data_train[data_train['label'] == 1]['preprocessed_text'].iloc[0])\n",
    "\n",
    "# Top palabras en mensajes ham\n",
    "ham_words = get_top_words(data_train[data_train['label'] == 0]['preprocessed_text'])\n",
    "print(\"\\nTop 10 palabras en mensajes HAM:\")\n",
    "print(ham_words)\n",
    "\n",
    "# Top palabras en mensajes spam\n",
    "spam_words = get_top_words(data_train[data_train['label'] == 1]['preprocessed_text'])\n",
    "print(\"\\nTop 10 palabras en mensajes SPAM:\")\n",
    "print(spam_words)"
   ]
  },
  {
   "cell_type": "markdown",
   "metadata": {},
   "source": [
    "## Extra features"
   ]
  },
  {
   "cell_type": "code",
   "execution_count": 21,
   "metadata": {},
   "outputs": [
    {
     "data": {
      "text/html": [
       "<div>\n",
       "<style scoped>\n",
       "    .dataframe tbody tr th:only-of-type {\n",
       "        vertical-align: middle;\n",
       "    }\n",
       "\n",
       "    .dataframe tbody tr th {\n",
       "        vertical-align: top;\n",
       "    }\n",
       "\n",
       "    .dataframe thead th {\n",
       "        text-align: right;\n",
       "    }\n",
       "</style>\n",
       "<table border=\"1\" class=\"dataframe\">\n",
       "  <thead>\n",
       "    <tr style=\"text-align: right;\">\n",
       "      <th></th>\n",
       "      <th>text</th>\n",
       "      <th>label</th>\n",
       "      <th>cleaned_text</th>\n",
       "      <th>url_count</th>\n",
       "      <th>number_count</th>\n",
       "      <th>uppercase_ratio</th>\n",
       "      <th>original_length</th>\n",
       "      <th>cleaned_length</th>\n",
       "      <th>preprocessed_text</th>\n",
       "      <th>money_mark</th>\n",
       "      <th>suspicious_words</th>\n",
       "      <th>text_len</th>\n",
       "    </tr>\n",
       "  </thead>\n",
       "  <tbody>\n",
       "    <tr>\n",
       "      <th>29</th>\n",
       "      <td>----------- REGARDS, MR NELSON SMITH.KINDLY RE...</td>\n",
       "      <td>1</td>\n",
       "      <td>regards mr nelson smith kindly reply me on my ...</td>\n",
       "      <td>0</td>\n",
       "      <td>1</td>\n",
       "      <td>0.528302</td>\n",
       "      <td>106</td>\n",
       "      <td>89</td>\n",
       "      <td>regard mr nelson smith kindly reply private em...</td>\n",
       "      <td>1</td>\n",
       "      <td>0</td>\n",
       "      <td>79</td>\n",
       "    </tr>\n",
       "    <tr>\n",
       "      <th>535</th>\n",
       "      <td>I have not been able to reach oscar this am. W...</td>\n",
       "      <td>0</td>\n",
       "      <td>i have not been able to reach oscar this am we...</td>\n",
       "      <td>0</td>\n",
       "      <td>1</td>\n",
       "      <td>0.029703</td>\n",
       "      <td>101</td>\n",
       "      <td>95</td>\n",
       "      <td>able reach oscar supposed send pdb u receive</td>\n",
       "      <td>1</td>\n",
       "      <td>0</td>\n",
       "      <td>44</td>\n",
       "    </tr>\n",
       "    <tr>\n",
       "      <th>695</th>\n",
       "      <td>; Huma Abedin B6I'm checking with Pat on the 5...</td>\n",
       "      <td>0</td>\n",
       "      <td>huma abedin b i m checking with pat on the k w...</td>\n",
       "      <td>0</td>\n",
       "      <td>2</td>\n",
       "      <td>0.063830</td>\n",
       "      <td>141</td>\n",
       "      <td>135</td>\n",
       "      <td>huma abedin b checking pat k work jack jake re...</td>\n",
       "      <td>1</td>\n",
       "      <td>0</td>\n",
       "      <td>80</td>\n",
       "    </tr>\n",
       "    <tr>\n",
       "      <th>557</th>\n",
       "      <td>I can have it announced here on Monday - can't...</td>\n",
       "      <td>0</td>\n",
       "      <td>i can have it announced here on monday can t t...</td>\n",
       "      <td>0</td>\n",
       "      <td>0</td>\n",
       "      <td>0.038462</td>\n",
       "      <td>52</td>\n",
       "      <td>50</td>\n",
       "      <td>announced monday today</td>\n",
       "      <td>1</td>\n",
       "      <td>0</td>\n",
       "      <td>22</td>\n",
       "    </tr>\n",
       "    <tr>\n",
       "      <th>836</th>\n",
       "      <td>BANK OF AFRICAAGENCE SAN PEDRO14 BP 1210 S...</td>\n",
       "      <td>1</td>\n",
       "      <td>bank of africaagence san pedro bp san pedro co...</td>\n",
       "      <td>1</td>\n",
       "      <td>17</td>\n",
       "      <td>0.077714</td>\n",
       "      <td>1750</td>\n",
       "      <td>1621</td>\n",
       "      <td>bank africaagence san pedro bp san pedro cote ...</td>\n",
       "      <td>1</td>\n",
       "      <td>1</td>\n",
       "      <td>1058</td>\n",
       "    </tr>\n",
       "  </tbody>\n",
       "</table>\n",
       "</div>"
      ],
      "text/plain": [
       "                                                  text  label  \\\n",
       "29   ----------- REGARDS, MR NELSON SMITH.KINDLY RE...      1   \n",
       "535  I have not been able to reach oscar this am. W...      0   \n",
       "695  ; Huma Abedin B6I'm checking with Pat on the 5...      0   \n",
       "557  I can have it announced here on Monday - can't...      0   \n",
       "836      BANK OF AFRICAAGENCE SAN PEDRO14 BP 1210 S...      1   \n",
       "\n",
       "                                          cleaned_text  url_count  \\\n",
       "29   regards mr nelson smith kindly reply me on my ...          0   \n",
       "535  i have not been able to reach oscar this am we...          0   \n",
       "695  huma abedin b i m checking with pat on the k w...          0   \n",
       "557  i can have it announced here on monday can t t...          0   \n",
       "836  bank of africaagence san pedro bp san pedro co...          1   \n",
       "\n",
       "     number_count  uppercase_ratio  original_length  cleaned_length  \\\n",
       "29              1         0.528302              106              89   \n",
       "535             1         0.029703              101              95   \n",
       "695             2         0.063830              141             135   \n",
       "557             0         0.038462               52              50   \n",
       "836            17         0.077714             1750            1621   \n",
       "\n",
       "                                     preprocessed_text  money_mark  \\\n",
       "29   regard mr nelson smith kindly reply private em...           1   \n",
       "535       able reach oscar supposed send pdb u receive           1   \n",
       "695  huma abedin b checking pat k work jack jake re...           1   \n",
       "557                             announced monday today           1   \n",
       "836  bank africaagence san pedro bp san pedro cote ...           1   \n",
       "\n",
       "     suspicious_words  text_len  \n",
       "29                  0        79  \n",
       "535                 0        44  \n",
       "695                 0        80  \n",
       "557                 0        22  \n",
       "836                 1      1058  "
      ]
     },
     "execution_count": 21,
     "metadata": {},
     "output_type": "execute_result"
    }
   ],
   "source": [
    "# We add to the original dataframe two additional indicators (money symbols and suspicious words).\n",
    "money_simbol_list = \"|\".join([\"euro\",\"dollar\",\"pound\",\"€\",\"$\"])\n",
    "suspicious_words = \"|\".join([\"free\",\"cheap\",\"sex\",\"money\",\"account\",\"bank\",\"fund\",\"transfer\",\"transaction\",\"win\",\"deposit\",\"password\"])\n",
    "\n",
    "data_train['money_mark'] = data_train['preprocessed_text'].str.contains(money_simbol_list)*1\n",
    "data_train['suspicious_words'] = data_train['preprocessed_text'].str.contains(suspicious_words)*1\n",
    "data_train['text_len'] = data_train['preprocessed_text'].apply(lambda x: len(x)) \n",
    "\n",
    "data_val['money_mark'] = data_val['preprocessed_text'].str.contains(money_simbol_list)*1\n",
    "data_val['suspicious_words'] = data_val['preprocessed_text'].str.contains(suspicious_words)*1\n",
    "data_val['text_len'] = data_val['preprocessed_text'].apply(lambda x: len(x)) \n",
    "\n",
    "data_train.head()"
   ]
  },
  {
   "cell_type": "markdown",
   "metadata": {},
   "source": [
    "## How would work the Bag of Words with Count Vectorizer concept?"
   ]
  },
  {
   "cell_type": "code",
   "execution_count": 22,
   "metadata": {},
   "outputs": [
    {
     "name": "stdout",
     "output_type": "stream",
     "text": [
      "Forma de la matriz BOW de entrenamiento: (800, 1000)\n",
      "Forma de la matriz BOW de validación: (200, 1000)\n",
      "\n",
      "Primeras 10 palabras del vocabulario:\n",
      "['regard', 'mr', 'smith', 'kindly', 'reply', 'private', 'email', 'address', 'yahoo', 'com']\n"
     ]
    }
   ],
   "source": [
    "from sklearn.feature_extraction.text import CountVectorizer\n",
    "\n",
    "vectorizer = CountVectorizer(max_features=1000)\n",
    "X_train_bow = vectorizer.fit_transform(data_train['preprocessed_text'])\n",
    "X_val_bow = vectorizer.transform(data_val['preprocessed_text'])\n",
    "\n",
    "print(\"Forma de la matriz BOW de entrenamiento:\", X_train_bow.shape)\n",
    "print(\"Forma de la matriz BOW de validación:\", X_val_bow.shape)\n",
    "print(\"\\nPrimeras 10 palabras del vocabulario:\")\n",
    "print(list(vectorizer.vocabulary_.keys())[:10])"
   ]
  },
  {
   "cell_type": "markdown",
   "metadata": {},
   "source": [
    "## TD-IDF\n",
    "\n",
    "- Load the vectorizer\n",
    "\n",
    "- Vectorize all dataset\n",
    "\n",
    "- print the shape of the vetorized dataset"
   ]
  },
  {
   "cell_type": "code",
   "execution_count": 23,
   "metadata": {},
   "outputs": [
    {
     "name": "stdout",
     "output_type": "stream",
     "text": [
      "Forma de la matriz TF-IDF de entrenamiento: (800, 1000)\n",
      "Forma de la matriz TF-IDF de validación: (200, 1000)\n"
     ]
    }
   ],
   "source": [
    "vectorizer_tfidf = TfidfVectorizer(max_features=1000)\n",
    "X_train_tfidf = vectorizer_tfidf.fit_transform(data_train['preprocessed_text'])\n",
    "X_val_tfidf = vectorizer_tfidf.transform(data_val['preprocessed_text'])\n",
    "\n",
    "print(\"Forma de la matriz TF-IDF de entrenamiento:\", X_train_tfidf.shape)\n",
    "print(\"Forma de la matriz TF-IDF de validación:\", X_val_tfidf.shape)"
   ]
  },
  {
   "cell_type": "markdown",
   "metadata": {},
   "source": [
    "## And the Train a Classifier?"
   ]
  },
  {
   "cell_type": "code",
   "execution_count": 24,
   "metadata": {},
   "outputs": [
    {
     "name": "stdout",
     "output_type": "stream",
     "text": [
      "Reporte de clasificación:\n",
      "              precision    recall  f1-score   support\n",
      "\n",
      "           0       0.98      0.97      0.97       125\n",
      "           1       0.95      0.96      0.95        75\n",
      "\n",
      "    accuracy                           0.96       200\n",
      "   macro avg       0.96      0.96      0.96       200\n",
      "weighted avg       0.97      0.96      0.97       200\n",
      "\n"
     ]
    }
   ],
   "source": [
    "from sklearn.naive_bayes import MultinomialNB\n",
    "from sklearn.metrics import classification_report\n",
    "\n",
    "# Crear y entrenar el modelo\n",
    "clf = MultinomialNB()\n",
    "clf.fit(X_train_tfidf, data_train['label'])\n",
    "\n",
    "# Predicciones\n",
    "y_pred = clf.predict(X_val_tfidf)\n",
    "\n",
    "# Evaluar el modelo\n",
    "print(\"Reporte de clasificación:\")\n",
    "print(classification_report(data_val['label'], y_pred))"
   ]
  },
  {
   "cell_type": "code",
   "execution_count": 25,
   "metadata": {},
   "outputs": [
    {
     "data": {
      "image/png": "[encoded data removed]",
      "text/plain": [
       "<Figure size 800x600 with 2 Axes>"
      ]
     },
     "metadata": {},
     "output_type": "display_data"
    },
    {
     "data": {
      "image/png": "[encoded data removed]",
      "text/plain": [
       "<Figure size 800x600 with 1 Axes>"
      ]
     },
     "metadata": {},
     "output_type": "display_data"
    }
   ],
   "source": [
    "from sklearn.metrics import confusion_matrix, roc_curve, auc\n",
    "import seaborn as sns\n",
    "\n",
    "# Matriz de confusión\n",
    "cm = confusion_matrix(data_val['label'], y_pred)\n",
    "plt.figure(figsize=(8, 6))\n",
    "sns.heatmap(cm, annot=True, fmt='d', cmap='Blues')\n",
    "plt.title('Matriz de Confusión')\n",
    "plt.ylabel('Verdadero')\n",
    "plt.xlabel('Predicho')\n",
    "plt.show()\n",
    "\n",
    "# Curva ROC\n",
    "y_pred_proba = clf.predict_proba(X_val_tfidf)[:, 1]\n",
    "fpr, tpr, _ = roc_curve(data_val['label'], y_pred_proba)\n",
    "roc_auc = auc(fpr, tpr)\n",
    "\n",
    "plt.figure(figsize=(8, 6))\n",
    "plt.plot(fpr, tpr, color='darkorange', lw=2, label=f'ROC curve (AUC = {roc_auc:.2f})')\n",
    "plt.plot([0, 1], [0, 1], color='navy', lw=2, linestyle='--')\n",
    "plt.xlabel('False Positive Rate')\n",
    "plt.ylabel('True Positive Rate')\n",
    "plt.title('Curva ROC')\n",
    "plt.legend(loc=\"lower right\")\n",
    "plt.show()"
   ]
  },
  {
   "cell_type": "code",
   "execution_count": 26,
   "metadata": {},
   "outputs": [
    {
     "name": "stdout",
     "output_type": "stream",
     "text": [
      "Precisión con validación cruzada: 0.955 (+/- 0.024)\n"
     ]
    }
   ],
   "source": [
    "from sklearn.model_selection import cross_val_score\n",
    "\n",
    "# Validación cruzada\n",
    "scores = cross_val_score(clf, X_train_tfidf, data_train['label'], cv=5)\n",
    "print(f\"Precisión con validación cruzada: {scores.mean():.3f} (+/- {scores.std() * 2:.3f})\")"
   ]
  },
  {
   "cell_type": "markdown",
   "metadata": {},
   "source": [
    "### Extra Task - Implement a SPAM/HAM classifier\n",
    "\n",
    "https://www.kaggle.com/t/b384e34013d54d238490103bc3c360ce\n",
    "\n",
    "The classifier can not be changed!!! It must be the MultinimialNB with default parameters!\n",
    "\n",
    "Your task is to find the **best feature representation**.\n",
    "\n",
    "You can work with teams of two persons (recommended)."
   ]
  },
  {
   "cell_type": "code",
   "execution_count": 28,
   "metadata": {},
   "outputs": [],
   "source": [
    "def evaluate_model(X_train, X_val, y_train, y_val, model_name=\"Modelo\"):\n",
    "    # Entrenamos el modelo\n",
    "    clf = MultinomialNB()\n",
    "    clf.fit(X_train, y_train)\n",
    "    \n",
    "    # Predicciones\n",
    "    y_pred = clf.predict(X_val)\n",
    "    \n",
    "    # Métricas\n",
    "    print(f\"\\n=== Resultados para {model_name} ===\")\n",
    "    print(\"\\nReporte de clasificación:\")\n",
    "    print(classification_report(y_val, y_pred))\n",
    "    \n",
    "    # Validación cruzada\n",
    "    scores = cross_val_score(clf, X_train, y_train, cv=5)\n",
    "    print(f\"\\nPrecisión con validación cruzada: {scores.mean():.3f} (+/- {scores.std() * 2:.3f})\")\n",
    "    \n",
    "    return clf, y_pred"
   ]
  },
  {
   "cell_type": "code",
   "execution_count": 29,
   "metadata": {},
   "outputs": [],
   "source": [
    "# 1. Features básicos\n",
    "def create_basic_features(train_df, val_df):\n",
    "    features = ['text_len', 'money_mark', 'suspicious_words']\n",
    "    return (\n",
    "        train_df[features].values,\n",
    "        val_df[features].values\n",
    "    )\n",
    "\n",
    "# 2. Features de texto avanzados\n",
    "def create_advanced_features(train_df, val_df):\n",
    "    # URLs y números\n",
    "    train_df['url_count'] = train_df['text'].str.count(r'http[s]?://(?:[a-zA-Z]|[0-9]|[$-_@.&+]|[!*\\(\\),]|(?:%[0-9a-fA-F][0-9a-fA-F]))+')\n",
    "    train_df['number_count'] = train_df['text'].str.count(r'\\d+')\n",
    "    train_df['uppercase_ratio'] = train_df['text'].apply(lambda x: sum(1 for c in str(x) if c.isupper()) / len(str(x)) if len(str(x)) > 0 else 0)\n",
    "    \n",
    "    val_df['url_count'] = val_df['text'].str.count(r'http[s]?://(?:[a-zA-Z]|[0-9]|[$-_@.&+]|[!*\\(\\),]|(?:%[0-9a-fA-F][0-9a-fA-F]))+')\n",
    "    val_df['number_count'] = val_df['text'].str.count(r'\\d+')\n",
    "    val_df['uppercase_ratio'] = val_df['text'].apply(lambda x: sum(1 for c in str(x) if c.isupper()) / len(str(x)) if len(str(x)) > 0 else 0)\n",
    "    \n",
    "    features = ['text_len', 'money_mark', 'suspicious_words', 'url_count', 'number_count', 'uppercase_ratio']\n",
    "    return (\n",
    "        train_df[features].values,\n",
    "        val_df[features].values\n",
    "    )"
   ]
  },
  {
   "cell_type": "code",
   "execution_count": 30,
   "metadata": {},
   "outputs": [],
   "source": [
    "def create_tfidf_features(train_texts, val_texts, config):\n",
    "    vectorizer = TfidfVectorizer(**config)\n",
    "    X_train = vectorizer.fit_transform(train_texts)\n",
    "    X_val = vectorizer.transform(val_texts)\n",
    "    return X_train, X_val, vectorizer\n",
    "\n",
    "# Diferentes configuraciones de TF-IDF\n",
    "tfidf_configs = {\n",
    "    'simple': {\n",
    "        'max_features': 1000\n",
    "    },\n",
    "    'advanced': {\n",
    "        'max_features': 2000,\n",
    "        'min_df': 2,\n",
    "        'max_df': 0.95,\n",
    "        'ngram_range': (1, 2)\n",
    "    },\n",
    "    'complex': {\n",
    "        'max_features': 3000,\n",
    "        'min_df': 3,\n",
    "        'max_df': 0.9,\n",
    "        'ngram_range': (1, 3)\n",
    "    }\n",
    "}"
   ]
  },
  {
   "cell_type": "code",
   "execution_count": 37,
   "metadata": {},
   "outputs": [
    {
     "name": "stdout",
     "output_type": "stream",
     "text": [
      "Creando features...\n",
      "\n",
      "Probando configuración TF-IDF: simple\n",
      "\n",
      "=== Resultados para TF-IDF simple + features básicos ===\n",
      "\n",
      "Reporte de clasificación:\n",
      "              precision    recall  f1-score   support\n",
      "\n",
      "           0       0.94      0.97      0.95       125\n",
      "           1       0.94      0.89      0.92        75\n",
      "\n",
      "    accuracy                           0.94       200\n",
      "   macro avg       0.94      0.93      0.94       200\n",
      "weighted avg       0.94      0.94      0.94       200\n",
      "\n",
      "\n",
      "Precisión con validación cruzada: 0.906 (+/- 0.043)\n",
      "\n",
      "Probando configuración TF-IDF: advanced\n",
      "\n",
      "=== Resultados para TF-IDF advanced + features básicos ===\n",
      "\n",
      "Reporte de clasificación:\n",
      "              precision    recall  f1-score   support\n",
      "\n",
      "           0       0.94      0.97      0.95       125\n",
      "           1       0.94      0.89      0.92        75\n",
      "\n",
      "    accuracy                           0.94       200\n",
      "   macro avg       0.94      0.93      0.94       200\n",
      "weighted avg       0.94      0.94      0.94       200\n",
      "\n",
      "\n",
      "Precisión con validación cruzada: 0.909 (+/- 0.039)\n",
      "\n",
      "Probando configuración TF-IDF: complex\n",
      "\n",
      "=== Resultados para TF-IDF complex + features básicos ===\n",
      "\n",
      "Reporte de clasificación:\n",
      "              precision    recall  f1-score   support\n",
      "\n",
      "           0       0.95      0.97      0.96       125\n",
      "           1       0.94      0.91      0.93        75\n",
      "\n",
      "    accuracy                           0.94       200\n",
      "   macro avg       0.94      0.94      0.94       200\n",
      "weighted avg       0.94      0.94      0.94       200\n",
      "\n",
      "\n",
      "Precisión con validación cruzada: 0.908 (+/- 0.031)\n",
      "\n",
      "=== Mejor configuración: simple ===\n",
      "\n",
      "Top 10 palabras más importantes para HAM:\n",
      "['work', 'pls', 'pm', 'state', 'tomorrow', 'cheryl', 'see', 'ok', 'call', 'fyi']\n",
      "\n",
      "Top 10 palabras más importantes para SPAM:\n",
      "['transfer', 'company', 'business', 'country', 'mr', 'transaction', 'fund', 'bank', 'account', 'money']\n"
     ]
    }
   ],
   "source": [
    "from scipy.sparse import hstack\n",
    "import numpy as np\n",
    "# Crear todas las versiones de features\n",
    "print(\"Creando features...\")\n",
    "X_train_basic, X_val_basic = create_basic_features(data_train, data_val)\n",
    "X_train_advanced, X_val_advanced = create_advanced_features(data_train, data_val)\n",
    "\n",
    "results = {}\n",
    "for config_name, config in tfidf_configs.items():\n",
    "    print(f\"\\nProbando configuración TF-IDF: {config_name}\")\n",
    "    \n",
    "    # TF-IDF features\n",
    "    X_train_tfidf, X_val_tfidf, vectorizer = create_tfidf_features(\n",
    "        data_train['preprocessed_text'],\n",
    "        data_val['preprocessed_text'],\n",
    "        config\n",
    "    )\n",
    "    \n",
    "    # Combinar con features básicos\n",
    "    X_train_combined = hstack([X_train_tfidf, X_train_basic])\n",
    "    X_val_combined = hstack([X_val_tfidf, X_val_basic])\n",
    "    \n",
    "    # Evaluar modelo\n",
    "    clf, y_pred = evaluate_model(\n",
    "        X_train_combined, \n",
    "        X_val_combined, \n",
    "        data_train['label'], \n",
    "        data_val['label'],\n",
    "        f\"TF-IDF {config_name} + features básicos\"\n",
    "    )\n",
    "    \n",
    "    # Guardar resultados\n",
    "    results[config_name] = {\n",
    "        'clf': clf,\n",
    "        'y_pred': y_pred,\n",
    "        'vectorizer': vectorizer\n",
    "    }\n",
    "\n",
    "# Mostrar las palabras más importantes para cada clase\n",
    "def print_important_features(clf, vectorizer, n=10):\n",
    "    feature_names = vectorizer.get_feature_names_out()\n",
    "    max_features = len(feature_names)\n",
    "    n = min(n, max_features)  # Nos aseguramos de no exceder el tamaño del vocabulario\n",
    "    \n",
    "    for i, label in enumerate(['HAM', 'SPAM']):\n",
    "        # Obtenemos los índices ordenados y nos aseguramos de que estén dentro del rango\n",
    "        feature_log_probs = clf.feature_log_prob_[i]\n",
    "        top_indices = np.argsort(feature_log_probs)\n",
    "        top_indices = top_indices[top_indices < max_features]  # Filtramos índices válidos\n",
    "        top_features = top_indices[-n:]  # Tomamos los últimos n índices\n",
    "        \n",
    "        print(f\"\\nTop {n} palabras más importantes para {label}:\")\n",
    "        top_words = [feature_names[j] for j in top_features if j < max_features]\n",
    "        print(top_words)\n",
    "\n",
    "# Encontrar la mejor configuración basada en la validación cruzada\n",
    "cv_scores = {}\n",
    "for config_name in results.keys():\n",
    "    scores = cross_val_score(results[config_name]['clf'], \n",
    "                           X_train_combined, \n",
    "                           data_train['label'], \n",
    "                           cv=5)\n",
    "    cv_scores[config_name] = scores.mean()\n",
    "\n",
    "best_config = max(cv_scores.items(), key=lambda x: x[1])[0]\n",
    "\n",
    "print(f\"\\n=== Mejor configuración: {best_config} ===\")\n",
    "print_important_features(results[best_config]['clf'], \n",
    "                       results[best_config]['vectorizer'])\n"
   ]
  },
  {
   "cell_type": "code",
   "execution_count": 41,
   "metadata": {},
   "outputs": [
    {
     "name": "stdout",
     "output_type": "stream",
     "text": [
      "\n",
      "AUC-ROC Score: 0.931\n"
     ]
    },
    {
     "data": {
      "image/png": "[encoded data removed]",
      "text/plain": [
       "<Figure size 1000x400 with 3 Axes>"
      ]
     },
     "metadata": {},
     "output_type": "display_data"
    }
   ],
   "source": [
    "# Versión alternativa más robusta\n",
    "plt.figure(figsize=(10, 4))\n",
    "\n",
    "try:\n",
    "    # Matriz de confusión\n",
    "    plt.subplot(1, 2, 1)\n",
    "    cm = confusion_matrix(data_val['label'], results[best_config]['y_pred'])\n",
    "    sns.heatmap(cm, annot=True, fmt='d', cmap='Blues')\n",
    "    plt.title(f'Matriz de Confusión\\n{best_config}')\n",
    "    plt.ylabel('Verdadero')\n",
    "    plt.xlabel('Predicho')\n",
    "\n",
    "    # Curva ROC\n",
    "    plt.subplot(1, 2, 2)\n",
    "    \n",
    "    # Recreamos las features exactamente como se hicieron durante el entrenamiento\n",
    "    X_val_tfidf, _, _ = create_tfidf_features(\n",
    "        data_val['preprocessed_text'],\n",
    "        data_val['preprocessed_text'],\n",
    "        tfidf_configs[best_config]\n",
    "    )\n",
    "    X_val_basic = create_basic_features(data_train, data_val)[1]\n",
    "    X_val_combined = hstack([X_val_tfidf, X_val_basic])\n",
    "    \n",
    "    # Calculamos probabilidades\n",
    "    y_pred_proba = results[best_config]['clf'].predict_proba(X_val_combined)[:, 1]\n",
    "    fpr, tpr, _ = roc_curve(data_val['label'], y_pred_proba)\n",
    "    roc_auc = auc(fpr, tpr)\n",
    "\n",
    "    plt.plot(fpr, tpr, color='darkorange', lw=2, \n",
    "             label=f'ROC curve (AUC = {roc_auc:.2f})')\n",
    "    plt.plot([0, 1], [0, 1], color='navy', lw=2, linestyle='--')\n",
    "    plt.xlabel('False Positive Rate')\n",
    "    plt.ylabel('True Positive Rate')\n",
    "    plt.title('Curva ROC')\n",
    "    plt.legend(loc=\"lower right\")\n",
    "\n",
    "    print(f\"\\nAUC-ROC Score: {roc_auc:.3f}\")\n",
    "\n",
    "except Exception as e:\n",
    "    print(f\"Error al generar las visualizaciones: {str(e)}\")\n",
    "    \n",
    "plt.tight_layout()\n",
    "plt.show()"
   ]
  }
 ],
 "metadata": {
  "celltoolbar": "Slideshow",
  "kernelspec": {
   "display_name": "Python 3 (ipykernel)",
   "language": "python",
   "name": "python3"
  },
  "language_info": {
   "codemirror_mode": {
    "name": "ipython",
    "version": 3
   },
   "file_extension": ".py",
   "mimetype": "text/x-python",
   "name": "python",
   "nbconvert_exporter": "python",
   "pygments_lexer": "ipython3",
   "version": "3.11.11"
  }
 },
 "nbformat": 4,
 "nbformat_minor": 2
}
